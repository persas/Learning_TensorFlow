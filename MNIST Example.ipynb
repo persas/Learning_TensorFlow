{
 "cells": [
  {
   "cell_type": "code",
   "execution_count": 1,
   "metadata": {
    "collapsed": true,
    "deletable": true,
    "editable": true
   },
   "outputs": [],
   "source": [
    "#Importamos tensorflow, pandas y Numpy\n",
    "import tensorflow as tf\n",
    "\n",
    "import numpy as np\n",
    "import pandas as pd\n",
    "\n",
    "import matplotlib.pyplot as plt\n",
    "import matplotlib.cm as cm"
   ]
  },
  {
   "cell_type": "code",
   "execution_count": 2,
   "metadata": {
    "collapsed": false,
    "deletable": true,
    "editable": true
   },
   "outputs": [
    {
     "name": "stdout",
     "output_type": "stream",
     "text": [
      "Extracting MNIST_data/train-images-idx3-ubyte.gz\n",
      "Extracting MNIST_data/train-labels-idx1-ubyte.gz\n",
      "Extracting MNIST_data/t10k-images-idx3-ubyte.gz\n",
      "Extracting MNIST_data/t10k-labels-idx1-ubyte.gz\n"
     ]
    }
   ],
   "source": [
    "#Importamos los datos de MNIST\n",
    "from tensorflow.examples.tutorials.mnist import input_data\n",
    "mnist = input_data.read_data_sets('MNIST_data/', one_hot = True)"
   ]
  },
  {
   "cell_type": "code",
   "execution_count": 6,
   "metadata": {
    "collapsed": false,
    "deletable": true,
    "editable": true
   },
   "outputs": [
    {
     "data": {
      "image/png": "[encoded data removed]",
      "text/plain": [
       "<matplotlib.figure.Figure at 0x10e8e22d0>"
      ]
     },
     "metadata": {},
     "output_type": "display_data"
    }
   ],
   "source": [
    "%matplotlib inline\n",
    "\n",
    "#Vemos un numero como ejemplo\n",
    "num = mnist.train.images[54999].reshape((28,28))\n",
    "plt.imshow(num, cmap = cm.Greys)\n",
    "plt.show()"
   ]
  },
  {
   "cell_type": "code",
   "execution_count": 4,
   "metadata": {
    "collapsed": false,
    "deletable": true,
    "editable": true
   },
   "outputs": [
    {
     "data": {
      "text/plain": [
       "8"
      ]
     },
     "execution_count": 4,
     "metadata": {},
     "output_type": "execute_result"
    }
   ],
   "source": [
    "mnist.train.labels[54999].nonzero()[0][0]"
   ]
  },
  {
   "cell_type": "code",
   "execution_count": 11,
   "metadata": {
    "collapsed": true,
    "deletable": true,
    "editable": true
   },
   "outputs": [],
   "source": [
    "#Paremeters\n",
    "learning_rate = 0.01\n",
    "epoch = 20\n",
    "batch_size = 100\n",
    "display_step = 1\n",
    "\n",
    "#NN Parameters\n",
    "n_layer_1 = 200\n",
    "n_layer_2 = 200\n",
    "entries = 784\n",
    "classes = 10\n",
    "\n",
    "#Inputs\n",
    "x = tf.placeholder('float', [None, entries], name = 'Entries')\n",
    "y = tf.placeholder('float', [None, classes], name = 'Classes')\n"
   ]
  },
  {
   "cell_type": "code",
   "execution_count": 8,
   "metadata": {
    "collapsed": true
   },
   "outputs": [],
   "source": [
    "def network(x,weights, bias):\n",
    "    #Activacion primera capa\n",
    "    layer_1 = tf.nn.relu(tf.add(tf.matmul(x,weights['L1']),bias['b1']))\n",
    "    \n",
    "    #Activacion segunda capa\n",
    "    layer_2= tf.nn.relu(tf.add(tf.matmul(layer_1,weights['L2']),bias['b2']))\n",
    "    \n",
    "    #Salida\n",
    "    output = tf.matmul(layer_2, weights['out']) + bias['out']\n",
    "    return output"
   ]
  },
  {
   "cell_type": "code",
   "execution_count": 12,
   "metadata": {
    "collapsed": false
   },
   "outputs": [],
   "source": [
    "#Weights and bias\n",
    "weights = {\n",
    "    'L1': tf.Variable(tf.random_normal([entries, n_layer_1])),\n",
    "    'L2': tf.Variable(tf.random_normal([n_layer_1, n_layer_2])),\n",
    "    'out': tf.Variable(tf.random_normal([n_layer_2, classes]))\n",
    "}\n",
    "\n",
    "bias = {\n",
    "    'b1': tf.Variable(tf.random_normal([n_layer_1])),\n",
    "    'b2': tf.Variable(tf.random_normal([n_layer_2])),\n",
    "    'out': tf.Variable(tf.random_normal([classes]))\n",
    "}\n"
   ]
  },
  {
   "cell_type": "code",
   "execution_count": null,
   "metadata": {
    "collapsed": true
   },
   "outputs": [],
   "source": []
  }
 ],
 "metadata": {
  "kernelspec": {
   "display_name": "Python 2",
   "language": "python",
   "name": "python2"
  },
  "language_info": {
   "codemirror_mode": {
    "name": "ipython",
    "version": 2
   },
   "file_extension": ".py",
   "mimetype": "text/x-python",
   "name": "python",
   "nbconvert_exporter": "python",
   "pygments_lexer": "ipython2",
   "version": "2.7.10"
  }
 },
 "nbformat": 4,
 "nbformat_minor": 2
}
