{
 "cells": [
  {
   "cell_type": "code",
   "execution_count": 17,
   "metadata": {
    "collapsed": true,
    "deletable": true,
    "editable": true
   },
   "outputs": [],
   "source": [
    "import tensorflow as tf\n",
    "\n",
    "import numpy as np\n",
    "import matplotlib.pyplot as plt\n",
    "import matplotlib.cm as cm\n",
    "import pandas as pd\n"
   ]
  },
  {
   "cell_type": "code",
   "execution_count": 18,
   "metadata": {
    "collapsed": false,
    "deletable": true,
    "editable": true
   },
   "outputs": [],
   "source": [
    "%matplotlib inline"
   ]
  },
  {
   "cell_type": "code",
   "execution_count": 19,
   "metadata": {
    "collapsed": true,
    "deletable": true,
    "editable": true
   },
   "outputs": [],
   "source": [
    "a = tf.constant(2)\n",
    "b = tf.constant(3)"
   ]
  },
  {
   "cell_type": "code",
   "execution_count": 20,
   "metadata": {
    "collapsed": true,
    "deletable": true,
    "editable": true
   },
   "outputs": [],
   "source": [
    "mat1 = tf.constant([[1,3,2],\n",
    "                    [1,0,0],\n",
    "                    [1,2,2]])\n",
    "\n",
    "mat2 = tf.constant([[1,0,5],\n",
    "                    [7,5,0],\n",
    "                    [2,1,1]])"
   ]
  },
  {
   "cell_type": "code",
   "execution_count": 21,
   "metadata": {
    "collapsed": false,
    "deletable": true,
    "editable": true
   },
   "outputs": [],
   "source": [
    "suma = tf.add(a, b)\n",
    "mult = tf.multiply(a, b)\n",
    "cubo = a**3\n",
    "\n",
    "mat_sum = tf.add(mat1, mat2)\n",
    "\n",
    "mat_mul = tf.matmul(mat1, mat2)"
   ]
  },
  {
   "cell_type": "code",
   "execution_count": 22,
   "metadata": {
    "collapsed": false,
    "deletable": true,
    "editable": true
   },
   "outputs": [
    {
     "name": "stdout",
     "output_type": "stream",
     "text": [
      "Suma de constantes: 5\n",
      "Multiplicacion de constantes: 6\n",
      "cte al cubo: 8\n",
      "Suma de matrices: \n",
      "[[2 3 7]\n",
      " [8 5 0]\n",
      " [3 3 3]]\n",
      "Producto de constantes: \n",
      "[[26 17  7]\n",
      " [ 1  0  5]\n",
      " [19 12  7]]\n"
     ]
    }
   ],
   "source": [
    "with tf.Session() as sess:\n",
    "    print('Suma de constantes: {}'.format(sess.run(suma)))\n",
    "    print('Multiplicacion de constantes: {}'.format(sess.run(mult)))\n",
    "    print('cte al cubo: {}'.format(sess.run(cubo)))\n",
    "    print('Suma de matrices: \\n{}'.format(sess.run(mat_sum)))\n",
    "    print('Producto de constantes: \\n{}'.format(sess.run(mat_mul)))"
   ]
  },
  {
   "cell_type": "code",
   "execution_count": 23,
   "metadata": {
    "collapsed": false,
    "deletable": true,
    "editable": true
   },
   "outputs": [],
   "source": [
    "estado = tf.Variable(0, name = \"contador\")\n",
    "\n",
    "uno = tf.constant(1)\n",
    "nuevo_valor = tf.add(estado, uno)\n",
    "actualizar = tf.assign(estado, nuevo_valor)\n",
    "\n",
    "init = tf.global_variables_initializer()"
   ]
  },
  {
   "cell_type": "code",
   "execution_count": 24,
   "metadata": {
    "collapsed": false,
    "deletable": true,
    "editable": true
   },
   "outputs": [
    {
     "name": "stdout",
     "output_type": "stream",
     "text": [
      "0\n",
      "1\n",
      "2\n",
      "3\n"
     ]
    }
   ],
   "source": [
    "with tf.Session() as sess:\n",
    "    sess.run(init)\n",
    "    print (sess.run(estado))\n",
    "    \n",
    "    for _ in range(3):\n",
    "        sess.run(actualizar)\n",
    "        print(sess.run(estado))"
   ]
  },
  {
   "cell_type": "code",
   "execution_count": 25,
   "metadata": {
    "collapsed": true,
    "deletable": true,
    "editable": true
   },
   "outputs": [],
   "source": [
    "x = tf.placeholder(tf.float32, shape=(4,4))\n",
    "y = tf.matmul(x,x)\n"
   ]
  },
  {
   "cell_type": "code",
   "execution_count": 26,
   "metadata": {
    "collapsed": false,
    "deletable": true,
    "editable": true
   },
   "outputs": [
    {
     "name": "stdout",
     "output_type": "stream",
     "text": [
      "[[ 0.74455178  2.04502082  1.29145956  1.92700863]\n",
      " [ 0.48550126  1.43858564  0.88412744  1.57123566]\n",
      " [ 0.31151772  1.4675616   1.05385756  1.14402235]\n",
      " [ 0.51306152  1.51764846  0.95812404  1.54412639]]\n"
     ]
    }
   ],
   "source": [
    "with tf.Session() as sess:\n",
    "    rand_array = np.random.rand(4,4)\n",
    "    print(sess.run(y,feed_dict={x:rand_array}))"
   ]
  },
  {
   "cell_type": "code",
   "execution_count": 27,
   "metadata": {
    "collapsed": true,
    "deletable": true,
    "editable": true
   },
   "outputs": [],
   "source": [
    "#MI PRIMERA NEURONA --> AND\n",
    "#Entradas\n",
    "entradas = tf.placeholder('float', name = 'entradas')\n",
    "datos = np.array([[0,0]\n",
    "                 ,[1,0]\n",
    "                 ,[0,1]\n",
    "                 ,[1,1]])\n",
    "\n",
    "#Salidas\n",
    "uno = lambda: tf.constant(1.0)\n",
    "cero = lambda:tf.constant(0.0)\n",
    "\n",
    "#Pesos y bias\n",
    "with tf.name_scope('Pesos'):\n",
    "    pesos = tf.placeholder('float', name = 'pesos')\n",
    "    bias = tf.placeholder('float', name = 'bias')\n",
    "\n",
    "    \n",
    "#Funcion de activacion de la neurona\n",
    "with tf.name_scope('Activacion'):\n",
    "    activacion = tf.reduce_sum(tf.add(tf.matmul(entradas, pesos),bias))\n",
    "    \n",
    "\n",
    "#Neurona\n",
    "with tf.name_scope('Neurona'):\n",
    "    def neurona():\n",
    "        return tf.case([(tf.less(activacion, 0.0),cero)],default = uno)\n",
    "    \n",
    "    #Salida de la neurona\n",
    "    a = neurona\n",
    "    \n",
    "#Logs\n",
    "logs_path = '/tmp/tensorflow_logs/neurona'"
   ]
  },
  {
   "cell_type": "code",
   "execution_count": 39,
   "metadata": {
    "collapsed": false,
    "deletable": true,
    "editable": true
   },
   "outputs": [
    {
     "data": {
      "text/html": [
       "<div>\n",
       "<table border=\"1\" class=\"dataframe\">\n",
       "  <thead>\n",
       "    <tr style=\"text-align: right;\">\n",
       "      <th></th>\n",
       "      <th>x1</th>\n",
       "      <th>x2</th>\n",
       "      <th>f(x)</th>\n",
       "      <th>x1 AND x2</th>\n",
       "    </tr>\n",
       "  </thead>\n",
       "  <tbody>\n",
       "    <tr>\n",
       "      <th>0</th>\n",
       "      <td>0.0</td>\n",
       "      <td>0.0</td>\n",
       "      <td>-1.5</td>\n",
       "      <td>0.0</td>\n",
       "    </tr>\n",
       "    <tr>\n",
       "      <th>1</th>\n",
       "      <td>1.0</td>\n",
       "      <td>0.0</td>\n",
       "      <td>-0.5</td>\n",
       "      <td>0.0</td>\n",
       "    </tr>\n",
       "    <tr>\n",
       "      <th>2</th>\n",
       "      <td>0.0</td>\n",
       "      <td>1.0</td>\n",
       "      <td>-0.5</td>\n",
       "      <td>0.0</td>\n",
       "    </tr>\n",
       "    <tr>\n",
       "      <th>3</th>\n",
       "      <td>1.0</td>\n",
       "      <td>1.0</td>\n",
       "      <td>0.5</td>\n",
       "      <td>1.0</td>\n",
       "    </tr>\n",
       "  </tbody>\n",
       "</table>\n",
       "</div>"
      ],
      "text/plain": [
       "    x1   x2  f(x)  x1 AND x2\n",
       "0  0.0  0.0  -1.5        0.0\n",
       "1  1.0  0.0  -0.5        0.0\n",
       "2  0.0  1.0  -0.5        0.0\n",
       "3  1.0  1.0   0.5        1.0"
      ]
     },
     "execution_count": 39,
     "metadata": {},
     "output_type": "execute_result"
    }
   ],
   "source": [
    "#Lanzamos la sesion\n",
    "#Neurona AND\n",
    "with tf.Session() as sess:\n",
    "    #Armamos el grafo\n",
    "    summary_writter = tf.summary.FileWriter(logs_path,\n",
    "                                             graph = sess.graph)\n",
    "    \n",
    "    #Armamos la tabla de verdad\n",
    "    \n",
    "    x_1 = []\n",
    "    x_2 = []\n",
    "    out = []\n",
    "    act = []\n",
    "    \n",
    "    for i in range (len(datos)):\n",
    "        t = datos[i].reshape(1,2)\n",
    "        salida, activ = sess.run([a(), activacion], feed_dict = {entradas: t,\n",
    "                                                              pesos : np.array([[1.],[1.]]),\n",
    "                                                              bias: -1.5})\n",
    "        \n",
    "        #Armar la tabla de verdad en DataFrame\n",
    "        \n",
    "        x_1.append(t[0][0])\n",
    "        x_2.append(t[0][1])\n",
    "        out.append(salida)\n",
    "        act.append(activ)\n",
    "    \n",
    "    tabla_info = np.array([x_1, x_2, act, out]).transpose()\n",
    "    tabla = pd.DataFrame(tabla_info,columns=['x1', 'x2', 'f(x)', 'x1 AND x2'])\n",
    "    \n",
    "tabla\n",
    "    "
   ]
  },
  {
   "cell_type": "code",
   "execution_count": 40,
   "metadata": {
    "collapsed": false,
    "deletable": true,
    "editable": true
   },
   "outputs": [
    {
     "data": {
      "text/html": [
       "<div>\n",
       "<table border=\"1\" class=\"dataframe\">\n",
       "  <thead>\n",
       "    <tr style=\"text-align: right;\">\n",
       "      <th></th>\n",
       "      <th>x1</th>\n",
       "      <th>x2</th>\n",
       "      <th>f(x)</th>\n",
       "      <th>x1 OR x2</th>\n",
       "    </tr>\n",
       "  </thead>\n",
       "  <tbody>\n",
       "    <tr>\n",
       "      <th>0</th>\n",
       "      <td>0.0</td>\n",
       "      <td>0.0</td>\n",
       "      <td>-0.5</td>\n",
       "      <td>0.0</td>\n",
       "    </tr>\n",
       "    <tr>\n",
       "      <th>1</th>\n",
       "      <td>1.0</td>\n",
       "      <td>0.0</td>\n",
       "      <td>0.5</td>\n",
       "      <td>1.0</td>\n",
       "    </tr>\n",
       "    <tr>\n",
       "      <th>2</th>\n",
       "      <td>0.0</td>\n",
       "      <td>1.0</td>\n",
       "      <td>0.5</td>\n",
       "      <td>1.0</td>\n",
       "    </tr>\n",
       "    <tr>\n",
       "      <th>3</th>\n",
       "      <td>1.0</td>\n",
       "      <td>1.0</td>\n",
       "      <td>1.5</td>\n",
       "      <td>1.0</td>\n",
       "    </tr>\n",
       "  </tbody>\n",
       "</table>\n",
       "</div>"
      ],
      "text/plain": [
       "    x1   x2  f(x)  x1 OR x2\n",
       "0  0.0  0.0  -0.5       0.0\n",
       "1  1.0  0.0   0.5       1.0\n",
       "2  0.0  1.0   0.5       1.0\n",
       "3  1.0  1.0   1.5       1.0"
      ]
     },
     "execution_count": 40,
     "metadata": {},
     "output_type": "execute_result"
    }
   ],
   "source": [
    "#Lanzamos la sesion\n",
    "#Neurona OR\n",
    "with tf.Session() as sess:\n",
    "    #Armamos el grafo\n",
    "    summary_writter = tf.summary.FileWriter(logs_path,\n",
    "                                             graph = sess.graph)\n",
    "    \n",
    "    #Armamos la tabla de verdad\n",
    "    \n",
    "    x_1 = []\n",
    "    x_2 = []\n",
    "    out = []\n",
    "    act = []\n",
    "    \n",
    "    for i in range (len(datos)):\n",
    "        t = datos[i].reshape(1,2)\n",
    "        salida, activ = sess.run([a(), activacion], feed_dict = {entradas: t,\n",
    "                                                              pesos : np.array([[1.],[1.]]),\n",
    "                                                              bias: -0.5})\n",
    "        \n",
    "        #Armar la tabla de verdad en DataFrame\n",
    "        \n",
    "        x_1.append(t[0][0])\n",
    "        x_2.append(t[0][1])\n",
    "        out.append(salida)\n",
    "        act.append(activ)\n",
    "    \n",
    "    tabla_info = np.array([x_1, x_2, act, out]).transpose()\n",
    "    tabla = pd.DataFrame(tabla_info,columns=['x1', 'x2', 'f(x)', 'x1 OR x2'])\n",
    "    \n",
    "tabla\n",
    "    "
   ]
  },
  {
   "cell_type": "code",
   "execution_count": null,
   "metadata": {
    "collapsed": true,
    "deletable": true,
    "editable": true
   },
   "outputs": [],
   "source": []
  }
 ],
 "metadata": {
  "kernelspec": {
   "display_name": "Python 2",
   "language": "python",
   "name": "python2"
  },
  "language_info": {
   "codemirror_mode": {
    "name": "ipython",
    "version": 2
   },
   "file_extension": ".py",
   "mimetype": "text/x-python",
   "name": "python",
   "nbconvert_exporter": "python",
   "pygments_lexer": "ipython2",
   "version": "2.7.10"
  }
 },
 "nbformat": 4,
 "nbformat_minor": 2
}
