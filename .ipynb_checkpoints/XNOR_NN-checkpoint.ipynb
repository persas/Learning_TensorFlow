{
 "cells": [
  {
   "cell_type": "code",
   "execution_count": 1,
   "metadata": {
    "collapsed": true,
    "deletable": true,
    "editable": true
   },
   "outputs": [],
   "source": [
    "import tensorflow as tf\n",
    "\n",
    "import numpy as np\n",
    "import matplotlib.pyplot as plt\n",
    "import matplotlib.cm as cm\n",
    "import pandas as pd\n"
   ]
  },
  {
   "cell_type": "code",
   "execution_count": 2,
   "metadata": {
    "collapsed": false,
    "deletable": true,
    "editable": true
   },
   "outputs": [],
   "source": [
    "%matplotlib inline"
   ]
  },
  {
   "cell_type": "code",
   "execution_count": 3,
   "metadata": {
    "collapsed": true,
    "deletable": true,
    "editable": true
   },
   "outputs": [],
   "source": [
    "a = tf.constant(2)\n",
    "b = tf.constant(3)"
   ]
  },
  {
   "cell_type": "code",
   "execution_count": 4,
   "metadata": {
    "collapsed": true,
    "deletable": true,
    "editable": true
   },
   "outputs": [],
   "source": [
    "mat1 = tf.constant([[1,3,2],\n",
    "                    [1,0,0],\n",
    "                    [1,2,2]])\n",
    "\n",
    "mat2 = tf.constant([[1,0,5],\n",
    "                    [7,5,0],\n",
    "                    [2,1,1]])"
   ]
  },
  {
   "cell_type": "code",
   "execution_count": 5,
   "metadata": {
    "collapsed": false,
    "deletable": true,
    "editable": true
   },
   "outputs": [],
   "source": [
    "suma = tf.add(a, b)\n",
    "mult = tf.multiply(a, b)\n",
    "cubo = a**3\n",
    "\n",
    "mat_sum = tf.add(mat1, mat2)\n",
    "\n",
    "mat_mul = tf.matmul(mat1, mat2)"
   ]
  },
  {
   "cell_type": "code",
   "execution_count": 6,
   "metadata": {
    "collapsed": false,
    "deletable": true,
    "editable": true
   },
   "outputs": [
    {
     "name": "stdout",
     "output_type": "stream",
     "text": [
      "Suma de constantes: 5\n",
      "Multiplicacion de constantes: 6\n",
      "cte al cubo: 8\n",
      "Suma de matrices: \n",
      "[[2 3 7]\n",
      " [8 5 0]\n",
      " [3 3 3]]\n",
      "Producto de constantes: \n",
      "[[26 17  7]\n",
      " [ 1  0  5]\n",
      " [19 12  7]]\n"
     ]
    }
   ],
   "source": [
    "with tf.Session() as sess:\n",
    "    print('Suma de constantes: {}'.format(sess.run(suma)))\n",
    "    print('Multiplicacion de constantes: {}'.format(sess.run(mult)))\n",
    "    print('cte al cubo: {}'.format(sess.run(cubo)))\n",
    "    print('Suma de matrices: \\n{}'.format(sess.run(mat_sum)))\n",
    "    print('Producto de constantes: \\n{}'.format(sess.run(mat_mul)))"
   ]
  },
  {
   "cell_type": "code",
   "execution_count": 7,
   "metadata": {
    "collapsed": false,
    "deletable": true,
    "editable": true
   },
   "outputs": [],
   "source": [
    "estado = tf.Variable(0, name = \"contador\")\n",
    "\n",
    "uno = tf.constant(1)\n",
    "nuevo_valor = tf.add(estado, uno)\n",
    "actualizar = tf.assign(estado, nuevo_valor)\n",
    "\n",
    "init = tf.global_variables_initializer()"
   ]
  },
  {
   "cell_type": "code",
   "execution_count": 8,
   "metadata": {
    "collapsed": false,
    "deletable": true,
    "editable": true
   },
   "outputs": [
    {
     "name": "stdout",
     "output_type": "stream",
     "text": [
      "0\n",
      "1\n",
      "2\n",
      "3\n"
     ]
    }
   ],
   "source": [
    "with tf.Session() as sess:\n",
    "    sess.run(init)\n",
    "    print (sess.run(estado))\n",
    "    \n",
    "    for _ in range(3):\n",
    "        sess.run(actualizar)\n",
    "        print(sess.run(estado))"
   ]
  },
  {
   "cell_type": "code",
   "execution_count": 9,
   "metadata": {
    "collapsed": true,
    "deletable": true,
    "editable": true
   },
   "outputs": [],
   "source": [
    "x = tf.placeholder(tf.float32, shape=(4,4))\n",
    "y = tf.matmul(x,x)\n"
   ]
  },
  {
   "cell_type": "code",
   "execution_count": 10,
   "metadata": {
    "collapsed": false,
    "deletable": true,
    "editable": true
   },
   "outputs": [
    {
     "name": "stdout",
     "output_type": "stream",
     "text": [
      "[[ 1.60380268  0.54421747  0.81643903  1.05929708]\n",
      " [ 1.29423821  0.75970948  0.59794843  1.00471437]\n",
      " [ 1.81378484  0.6809386   1.05205786  1.42001665]\n",
      " [ 1.84618568  0.75812972  1.24320197  1.72630727]]\n"
     ]
    }
   ],
   "source": [
    "with tf.Session() as sess:\n",
    "    rand_array = np.random.rand(4,4)\n",
    "    print(sess.run(y,feed_dict={x:rand_array}))"
   ]
  },
  {
   "cell_type": "code",
   "execution_count": 11,
   "metadata": {
    "collapsed": true,
    "deletable": true,
    "editable": true
   },
   "outputs": [],
   "source": [
    "#MI PRIMERA NEURONA --> AND\n",
    "#Entradas\n",
    "entradas = tf.placeholder('float', name = 'entradas')\n",
    "datos = np.array([[0,0]\n",
    "                 ,[1,0]\n",
    "                 ,[0,1]\n",
    "                 ,[1,1]])\n",
    "\n",
    "#Salidas\n",
    "uno = lambda: tf.constant(1.0)\n",
    "cero = lambda:tf.constant(0.0)\n",
    "\n",
    "#Pesos y bias\n",
    "with tf.name_scope('Pesos'):\n",
    "    pesos = tf.placeholder('float', name = 'pesos')\n",
    "    bias = tf.placeholder('float', name = 'bias')\n",
    "\n",
    "    \n",
    "#Funcion de activacion de la neurona\n",
    "with tf.name_scope('Activacion'):\n",
    "    activacion = tf.reduce_sum(tf.add(tf.matmul(entradas, pesos),bias))\n",
    "    \n",
    "\n",
    "#Neurona\n",
    "with tf.name_scope('Neurona'):\n",
    "    def neurona():\n",
    "        return tf.case([(tf.less(activacion, 0.0),cero)],default = uno)\n",
    "    \n",
    "    #Salida de la neurona\n",
    "    a = neurona\n",
    "    \n",
    "#Logs\n",
    "logs_path = '/tmp/tensorflow_logs/neurona'"
   ]
  },
  {
   "cell_type": "code",
   "execution_count": 12,
   "metadata": {
    "collapsed": false,
    "deletable": true,
    "editable": true
   },
   "outputs": [
    {
     "data": {
      "text/html": [
       "<div>\n",
       "<table border=\"1\" class=\"dataframe\">\n",
       "  <thead>\n",
       "    <tr style=\"text-align: right;\">\n",
       "      <th></th>\n",
       "      <th>x1</th>\n",
       "      <th>x2</th>\n",
       "      <th>f(x)</th>\n",
       "      <th>x1 AND x2</th>\n",
       "    </tr>\n",
       "  </thead>\n",
       "  <tbody>\n",
       "    <tr>\n",
       "      <th>0</th>\n",
       "      <td>0.0</td>\n",
       "      <td>0.0</td>\n",
       "      <td>-1.5</td>\n",
       "      <td>0.0</td>\n",
       "    </tr>\n",
       "    <tr>\n",
       "      <th>1</th>\n",
       "      <td>1.0</td>\n",
       "      <td>0.0</td>\n",
       "      <td>-0.5</td>\n",
       "      <td>0.0</td>\n",
       "    </tr>\n",
       "    <tr>\n",
       "      <th>2</th>\n",
       "      <td>0.0</td>\n",
       "      <td>1.0</td>\n",
       "      <td>-0.5</td>\n",
       "      <td>0.0</td>\n",
       "    </tr>\n",
       "    <tr>\n",
       "      <th>3</th>\n",
       "      <td>1.0</td>\n",
       "      <td>1.0</td>\n",
       "      <td>0.5</td>\n",
       "      <td>1.0</td>\n",
       "    </tr>\n",
       "  </tbody>\n",
       "</table>\n",
       "</div>"
      ],
      "text/plain": [
       "    x1   x2  f(x)  x1 AND x2\n",
       "0  0.0  0.0  -1.5        0.0\n",
       "1  1.0  0.0  -0.5        0.0\n",
       "2  0.0  1.0  -0.5        0.0\n",
       "3  1.0  1.0   0.5        1.0"
      ]
     },
     "execution_count": 12,
     "metadata": {},
     "output_type": "execute_result"
    }
   ],
   "source": [
    "#Lanzamos la sesion\n",
    "#Neurona AND\n",
    "with tf.Session() as sess:\n",
    "    #Armamos el grafo\n",
    "    summary_writter = tf.summary.FileWriter(logs_path,\n",
    "                                             graph = sess.graph)\n",
    "    \n",
    "    #Armamos la tabla de verdad\n",
    "    \n",
    "    x_1 = []\n",
    "    x_2 = []\n",
    "    out = []\n",
    "    act = []\n",
    "    \n",
    "    for i in range (len(datos)):\n",
    "        t = datos[i].reshape(1,2)\n",
    "        salida, activ = sess.run([a(), activacion], feed_dict = {entradas: t,\n",
    "                                                              pesos : np.array([[1.],[1.]]),\n",
    "                                                              bias: -1.5})\n",
    "        \n",
    "        #Armar la tabla de verdad en DataFrame\n",
    "        \n",
    "        x_1.append(t[0][0])\n",
    "        x_2.append(t[0][1])\n",
    "        out.append(salida)\n",
    "        act.append(activ)\n",
    "    \n",
    "    tabla_info = np.array([x_1, x_2, act, out]).transpose()\n",
    "    tabla = pd.DataFrame(tabla_info,columns=['x1', 'x2', 'f(x)', 'x1 AND x2'])\n",
    "    \n",
    "tabla\n",
    "    "
   ]
  },
  {
   "cell_type": "code",
   "execution_count": 13,
   "metadata": {
    "collapsed": false,
    "deletable": true,
    "editable": true
   },
   "outputs": [
    {
     "data": {
      "text/html": [
       "<div>\n",
       "<table border=\"1\" class=\"dataframe\">\n",
       "  <thead>\n",
       "    <tr style=\"text-align: right;\">\n",
       "      <th></th>\n",
       "      <th>x1</th>\n",
       "      <th>x2</th>\n",
       "      <th>f(x)</th>\n",
       "      <th>x1 OR x2</th>\n",
       "    </tr>\n",
       "  </thead>\n",
       "  <tbody>\n",
       "    <tr>\n",
       "      <th>0</th>\n",
       "      <td>0.0</td>\n",
       "      <td>0.0</td>\n",
       "      <td>-0.5</td>\n",
       "      <td>0.0</td>\n",
       "    </tr>\n",
       "    <tr>\n",
       "      <th>1</th>\n",
       "      <td>1.0</td>\n",
       "      <td>0.0</td>\n",
       "      <td>0.5</td>\n",
       "      <td>1.0</td>\n",
       "    </tr>\n",
       "    <tr>\n",
       "      <th>2</th>\n",
       "      <td>0.0</td>\n",
       "      <td>1.0</td>\n",
       "      <td>0.5</td>\n",
       "      <td>1.0</td>\n",
       "    </tr>\n",
       "    <tr>\n",
       "      <th>3</th>\n",
       "      <td>1.0</td>\n",
       "      <td>1.0</td>\n",
       "      <td>1.5</td>\n",
       "      <td>1.0</td>\n",
       "    </tr>\n",
       "  </tbody>\n",
       "</table>\n",
       "</div>"
      ],
      "text/plain": [
       "    x1   x2  f(x)  x1 OR x2\n",
       "0  0.0  0.0  -0.5       0.0\n",
       "1  1.0  0.0   0.5       1.0\n",
       "2  0.0  1.0   0.5       1.0\n",
       "3  1.0  1.0   1.5       1.0"
      ]
     },
     "execution_count": 13,
     "metadata": {},
     "output_type": "execute_result"
    }
   ],
   "source": [
    "#Lanzamos la sesion\n",
    "#Neurona OR\n",
    "with tf.Session() as sess:\n",
    "    #Armamos el grafo\n",
    "    summary_writter = tf.summary.FileWriter(logs_path,\n",
    "                                             graph = sess.graph)\n",
    "    \n",
    "    #Armamos la tabla de verdad\n",
    "    \n",
    "    x_1 = []\n",
    "    x_2 = []\n",
    "    out = []\n",
    "    act = []\n",
    "    \n",
    "    for i in range (len(datos)):\n",
    "        t = datos[i].reshape(1,2)\n",
    "        salida, activ = sess.run([a(), activacion], feed_dict = {entradas: t,\n",
    "                                                              pesos : np.array([[1.],[1.]]),\n",
    "                                                              bias: -0.5})\n",
    "        \n",
    "        #Armar la tabla de verdad en DataFrame\n",
    "        \n",
    "        x_1.append(t[0][0])\n",
    "        x_2.append(t[0][1])\n",
    "        out.append(salida)\n",
    "        act.append(activ)\n",
    "    \n",
    "    tabla_info = np.array([x_1, x_2, act, out]).transpose()\n",
    "    tabla = pd.DataFrame(tabla_info,columns=['x1', 'x2', 'f(x)', 'x1 OR x2'])\n",
    "    \n",
    "tabla\n",
    "    "
   ]
  },
  {
   "cell_type": "code",
   "execution_count": 14,
   "metadata": {
    "collapsed": true,
    "deletable": true,
    "editable": true
   },
   "outputs": [],
   "source": [
    "#XNOR NN \n",
    "#Entradas\n",
    "inputs = tf.placeholder('float', name = 'inputs')\n",
    "data = np.array([[0,0]\n",
    "                 ,[1,0]\n",
    "                 ,[0,1]\n",
    "                 ,[1,1]])\n",
    "\n",
    "#Salidas\n",
    "one = lambda: tf.constant(1.0)\n",
    "zero = lambda: tf.constant(0.0)\n",
    "\n",
    "with tf.name_scope('Weights'):\n",
    "    #Pesos y Bias\n",
    "    weights = {\n",
    "        'n1': tf.constant([[-1.0], [-1.0]], name = 'n1_weight'),\n",
    "        'n2': tf.constant([[1.0], [1.0]], name = 'n2_weight'),\n",
    "        'n3': tf.constant([[1.0], [1.0]], name = 'n3_weight')\n",
    "    }\n",
    "    bias = {\n",
    "        'n1': tf.constant(0.5, name = 'n1_bias'),\n",
    "        'n2': tf.constant(-1.5, name = 'n2_bias'),\n",
    "        'n3': tf.constant(-0.5, name = 'n3_bias')\n",
    "    }\n",
    "    \n",
    "\n",
    "with tf.name_scope('Neural_Network'):\n",
    "    #Primera capa, con dos neuronas\n",
    "    def layer_1(inputs, weights, bias):\n",
    "        #Activacion de la neurona 1\n",
    "        n1 = tf.reduce_sum(tf.add(tf.matmul(inputs, weights['n1']), bias['n1']))\n",
    "        n1 = tf.case([(tf.less(n1,0.0),zero)],default = one)\n",
    "        \n",
    "        #Activacion de la segunda neurona\n",
    "        n2 = tf.reduce_sum(tf.add(tf.matmul(inputs, weights['n2']), bias['n2']))\n",
    "        n2 = tf.case([(tf.less(n2,0.0),zero)],default = one)\n",
    "        \n",
    "        return n1, n2\n",
    "    \n",
    "    #Segunda capa, con una unica neurona\n",
    "    def layer_2(inputs, weights, bias):\n",
    "        #Activacion de la neurona oculta\n",
    "        n3 = tf.reduce_sum(tf.add(tf.matmul(inputs, weights['n3']), bias['n3']))\n",
    "        n3 = tf.case([(tf.less(n3,0.0),zero)],default = one)\n",
    "        \n",
    "        return n3\n",
    "\n"
   ]
  },
  {
   "cell_type": "code",
   "execution_count": 15,
   "metadata": {
    "collapsed": true
   },
   "outputs": [],
   "source": [
    "#Lanzamos la red neuronal\n",
    "with tf.Session() as sess:\n",
    "    \n",
    "    x_1 = []\n",
    "    x_2 = []\n",
    "    out = []\n",
    "    \n",
    "    for i in range(len(data)):\n",
    "        #Reshape de la matriz de entrada de datos\n",
    "        t = data[i].reshape(1,2)\n",
    "        #Pasamos los datos por la primera capa\n",
    "        n1, n2 = sess.run(layer_1(inputs, weights, bias), feed_dict = {inputs: t})\n",
    "        #Formateamos los resultados de la primera capa\n",
    "        input_n3 = np.array([[n1,n2]])\n",
    "        #Pasamos la salida de la primera capa a la segunda capa\n",
    "        output = sess.run(layer_2(input_n3, weights, bias))\n",
    "        \n",
    "        #Tabla de verdad a dataframe\n",
    "        x_1.append(t[0][0])\n",
    "        x_2.append(t[0][1])\n",
    "        out.append(output)\n",
    "        \n",
    "    df_out = np.array([x_1,x_2,out]).transpose()\n",
    "    df = pd.DataFrame(df_out, columns=['x1', 'x2', 'x1 XNOR x2'])"
   ]
  }
 ],
 "metadata": {
  "kernelspec": {
   "display_name": "Python 2",
   "language": "python",
   "name": "python2"
  },
  "language_info": {
   "codemirror_mode": {
    "name": "ipython",
    "version": 2
   },
   "file_extension": ".py",
   "mimetype": "text/x-python",
   "name": "python",
   "nbconvert_exporter": "python",
   "pygments_lexer": "ipython2",
   "version": "2.7.10"
  }
 },
 "nbformat": 4,
 "nbformat_minor": 2
}
